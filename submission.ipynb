{
 "cells": [
  {
   "cell_type": "code",
   "execution_count": 1,
   "metadata": {
    "collapsed": true
   },
   "outputs": [],
   "source": [
    "import crowdai\n",
    "import mido"
   ]
  },
  {
   "cell_type": "code",
   "execution_count": 4,
   "metadata": {
    "collapsed": false
   },
   "outputs": [
    {
     "name": "stdout",
     "output_type": "stream",
     "text": [
      "CrowdAI.Event.Authentication : Authenticating for challenge = AIGeneratedMusicChallenge\n",
      "CrowdAI.Event.Connection.CONNECTED\n",
      "CrowdAI.Event.Authentication.SUCCESS : Authentication Successful\n",
      "CrowdAI.Event.Misc.FILE_UPLOAD : Preparing for file upload\n",
      "CrowdAI.Event.Misc.FILE_UPLOAD : Uploading file\n"
     ]
    },
    {
     "name": "stderr",
     "output_type": "stream",
     "text": [
      "100% |██████████████████████████████████████████████████████████████████████████████████████|[00:01<00:00]  61.73% /s] \n",
      "                                                                                                                       \r"
     ]
    },
    {
     "name": "stdout",
     "output_type": "stream",
     "text": [
      "CrowdAI.Event.Job.ENQUEUED : 2b4ffd25-907f-4bc4-955a-4fa83664ab48\n"
     ]
    },
    {
     "name": "stderr",
     "output_type": "stream",
     "text": [
      "                                                                                                                       \r"
     ]
    },
    {
     "name": "stdout",
     "output_type": "stream",
     "text": [
      "CrowdAI.Event.Job.RUNNING : 2b4ffd25-907f-4bc4-955a-4fa83664ab48\n"
     ]
    },
    {
     "name": "stderr",
     "output_type": "stream",
     "text": [
      "                                                                                                                       \r"
     ]
    },
    {
     "name": "stdout",
     "output_type": "stream",
     "text": [
      "CrowdAI.Event.Job.INFO : (2b4ffd25-907f-4bc4-955a-4fa83664ab48) Post Processing  MIDI file....\n"
     ]
    },
    {
     "name": "stderr",
     "output_type": "stream",
     "text": [
      "                                                                                                                       :   0% |                                           |[00:00<?]  ?% /s] \r"
     ]
    },
    {
     "name": "stdout",
     "output_type": "stream",
     "text": [
      "CrowdAI.Event.Job.INFO : (2b4ffd25-907f-4bc4-955a-4fa83664ab48) Validating MIDI file...\n"
     ]
    },
    {
     "name": "stderr",
     "output_type": "stream",
     "text": [
      "                                                                                                                       :   0% |                                           |[00:01<?]  ?% /s] \r"
     ]
    },
    {
     "name": "stdout",
     "output_type": "stream",
     "text": [
      "CrowdAI.Event.Job.INFO : (2b4ffd25-907f-4bc4-955a-4fa83664ab48) MIDI file validated...\n"
     ]
    },
    {
     "name": "stderr",
     "output_type": "stream",
     "text": [
      "                                                                                                                       :   0% |                                           |[00:03<?]  ?% /s] :   0% |                                |[00:03<4:47:52]  172.76s/% ] \r"
     ]
    },
    {
     "name": "stdout",
     "output_type": "stream",
     "text": [
      "CrowdAI.Event.Job.INFO : (2b4ffd25-907f-4bc4-955a-4fa83664ab48) Splitting file into 120 chunks of ~30 seconds each...\n"
     ]
    },
    {
     "name": "stderr",
     "output_type": "stream",
     "text": [
      "                                                                                                                       :   0% |                                |[00:03<4:47:48]  172.76s/% ] :   0% |                                |[00:03<3:21:57]  121.39s/% ] :   2% |▊                                |[00:04<2:18:12]  85.00s/% ] :   6% |█▉                               |[00:04<1:33:21]  59.51s/% ] :   7% |██▎                              |[00:04<1:04:32]  41.70s/% ] :  11% |███▊                               |[00:04<43:20]  29.20s/% ] :  13% |████▍                              |[00:04<29:45]  20.47s/% ] :  16% |█████▍                             |[00:04<20:09]  14.35s/% ] :  19% |██████▍                            |[00:04<13:39]  10.05s/% ] :  20% |███████▏                           |[00:05<09:21]   7.06s/% ] :  23% |████████▏                          |[00:05<06:18]   4.95s/% ] :  27% |█████████▍                         |[00:05<04:13]   3.48s/% ] :  32% |███████████▎                       |[00:05<02:44]   2.44s/% ] \r"
     ]
    },
    {
     "name": "stdout",
     "output_type": "stream",
     "text": [
      "CrowdAI.Event.Job.INFO : (2b4ffd25-907f-4bc4-955a-4fa83664ab48) Saving split chunks...\n"
     ]
    },
    {
     "name": "stderr",
     "output_type": "stream",
     "text": [
      "                                                                                                                       :  33% |███████████▌                       |[00:05<02:43]   2.44s/% ] :  54% |███████████████████                |[00:05<01:17]   1.71s/% ] \r"
     ]
    },
    {
     "name": "stdout",
     "output_type": "stream",
     "text": [
      "CrowdAI.Event.Job.INFO : (2b4ffd25-907f-4bc4-955a-4fa83664ab48) Encoding individual chunks...\n"
     ]
    },
    {
     "name": "stderr",
     "output_type": "stream",
     "text": [
      "                                                                                                                       :  58% |████████████████████▏              |[00:05<01:12]   1.71s/% ] :  63% |██████████████████████             |[00:05<00:44]   1.21s/% ] \r"
     ]
    },
    {
     "name": "stdout",
     "output_type": "stream",
     "text": [
      "CrowdAI.Event.Job.INFO : (2b4ffd25-907f-4bc4-955a-4fa83664ab48) Saving encoded chunks...\n"
     ]
    },
    {
     "name": "stderr",
     "output_type": "stream",
     "text": [
      "                                                                                                                       :  70% |████████████████████████▍          |[00:05<00:36]   1.21s/% ] :  70% |████████████████████████▌          |[00:06<00:26]   1.15% /s] :  75% |██████████████████████████▎        |[00:10<00:20]   1.18% /s] :  79% |███████████████████████████▌       |[00:13<00:17]   1.20% /s] :  82% |████████████████████████████▌      |[00:15<00:15]   1.22% /s] :  84% |█████████████████████████████▎     |[00:17<00:13]   1.23% /s] :  85% |█████████████████████████████▊     |[00:18<00:12]   1.22% /s] :  86% |██████████████████████████████▏    |[00:19<00:12]   1.14% /s] :  87% |██████████████████████████████▍    |[00:20<00:11]   1.16% /s] :  88% |██████████████████████████████▋    |[00:20<00:10]   1.19% /s] :  88% |██████████████████████████████▊    |[00:21<00:09]   1.20% /s] :  89% |███████████████████████████████    |[00:21<00:09]   1.23% /s] :  89% |███████████████████████████████▏   |[00:21<00:08]   1.22% /s] :  89% |███████████████████████████████▎   |[00:22<00:08]   1.24% /s] :  90% |███████████████████████████████▎   |[00:22<00:08]   1.24% /s] :  90% |███████████████████████████████▍   |[00:22<00:08]   1.27% /s] :  90% |███████████████████████████████▌   |[00:23<00:13]   1.35s/% ] :  90% |███████████████████████████████▌   |[00:23<00:13]   1.35s/% ] :  91% |███████████████████████████████▋   |[00:23<00:11]   1.19s/% ] :  91% |███████████████████████████████▊   |[00:23<00:08]   1.04% /s] :  91% |███████████████████████████████▉   |[00:23<00:08]   1.09% /s] :  91% |███████████████████████████████▉   |[00:24<00:08]   1.07% /s] :  92% |████████████████████████████████   |[00:24<00:07]   1.13% /s] :  92% |████████████████████████████████▏  |[00:24<00:07]   1.07% /s] :  92% |████████████████████████████████▏  |[00:24<00:07]   1.11% /s] :  92% |████████████████████████████████▎  |[00:25<00:06]   1.15% /s] :  93% |████████████████████████████████▍  |[00:25<00:06]   1.19% /s] :  93% |████████████████████████████████▍  |[00:25<00:05]   1.21% /s] :  93% |████████████████████████████████▌  |[00:25<00:05]   1.24% /s] :  93% |████████████████████████████████▋  |[00:25<00:05]   1.25% /s] :  94% |████████████████████████████████▋  |[00:25<00:05]   1.26% /s] :  94% |████████████████████████████████▊  |[00:26<00:04]   1.27% /s] :  94% |████████████████████████████████▉  |[00:26<00:04]   1.27% /s] :  94% |█████████████████████████████████  |[00:26<00:04]   1.24% /s] :  95% |█████████████████████████████████  |[00:27<00:06]   1.17s/% ] :  95% |█████████████████████████████████▏ |[00:27<00:05]   1.05s/% ] :  95% |█████████████████████████████████▎ |[00:27<00:05]   1.01s/% ] :  95% |█████████████████████████████████▎ |[00:27<00:04]   1.03% /s] :  96% |█████████████████████████████████▍ |[00:27<00:04]   1.09% /s] :  96% |█████████████████████████████████▌ |[00:28<00:03]   1.16% /s] :  96% |█████████████████████████████████▌ |[00:28<00:03]   1.19% /s] :  96% |█████████████████████████████████▋ |[00:29<00:06]   1.88s/% ] :  97% |█████████████████████████████████▊ |[00:29<00:05]   1.69s/% ] :  97% |█████████████████████████████████▊ |[00:29<00:04]   1.41s/% ] :  97% |█████████████████████████████████▉ |[00:30<00:04]   1.36s/% ] :  97% |██████████████████████████████████ |[00:30<00:03]   1.19s/% ] :  98% |██████████████████████████████████▏|[00:30<00:02]   1.06s/% ] :  98% |██████████████████████████████████▏|[00:30<00:02]   1.03% /s] :  98% |██████████████████████████████████▎|[00:30<00:01]   1.10% /s] :  98% |██████████████████████████████████▍|[00:31<00:01]   1.06% /s] :  99% |██████████████████████████████████▍|[00:31<00:01]   1.14% /s] :  99% |██████████████████████████████████▌|[00:31<00:01]   1.18% /s] :  99% |██████████████████████████████████▋|[00:31<00:00]   1.21% /s] :  99% |██████████████████████████████████▋|[00:31<00:00]   1.23% /s] : 100% |██████████████████████████████████▊|[00:32<00:00]   1.13% /s] : 100% |██████████████████████████████████▉|[00:32<00:00]   1.16% /s] \r"
     ]
    },
    {
     "name": "stdout",
     "output_type": "stream",
     "text": [
      "CrowdAI.Event.Job.INFO : (2b4ffd25-907f-4bc4-955a-4fa83664ab48) Cleaning up...\n"
     ]
    },
    {
     "name": "stderr",
     "output_type": "stream",
     "text": [
      "                                                                                                                       : 100% |██████████████████████████████████▉|[00:32<00:00]   1.16% /s] \r"
     ]
    },
    {
     "name": "stdout",
     "output_type": "stream",
     "text": [
      "CrowdAI.Event.Job.INFO : (2b4ffd25-907f-4bc4-955a-4fa83664ab48) \n",
      "    Score (mu) : 25\n",
      "    Secondary_score (sigma) : 8.333\n",
      "    Please note that these scores are only the initial scores,\n",
      "    and they will change over time as your submission is\n",
      "    evaluated by the human volunteers.\n",
      "    \n"
     ]
    },
    {
     "name": "stderr",
     "output_type": "stream",
     "text": [
      "                                                                                                                       : 100% |██████████████████████████████████▉|[00:32<00:00]   1.16% /s] : 100% |███████████████████████████████████|[00:32<00:00]   1.12s/% ] \r"
     ]
    },
    {
     "name": "stdout",
     "output_type": "stream",
     "text": [
      "CrowdAI.Event.Job.COMPLETE : 2b4ffd25-907f-4bc4-955a-4fa83664ab48\t   🍺 \n"
     ]
    },
    {
     "name": "stderr",
     "output_type": "stream",
     "text": [
      "2b4ffd25-907f-4bc4-955a-4fa83664ab48                                                                                   : 100% |███████████████████████████████████|[00:32<00:00]   1.12s/% ] \n"
     ]
    },
    {
     "data": {
      "text/plain": [
       "'\\n  Common pitfall: `challenge.submit` takes the `midi_file_path`\\n                    and not the `midifile` object\\n'"
      ]
     },
     "execution_count": 4,
     "metadata": {},
     "output_type": "execute_result"
    }
   ],
   "source": [
    "midi_file_path=\"./test_output.mid\"\n",
    "API_KEY=\"\"\n",
    "\n",
    "midifile = mido.MidiFile(midi_file_path)\n",
    "assert midifile.length > 3600 - 10 and midifile.length < 3600 + 10\n",
    "assert len(midifile.tracks) == 1\n",
    "# assert midifile.type == 0\n",
    "\n",
    "challenge = crowdai.Challenge(\"AIGeneratedMusicChallenge\", API_KEY)\n",
    "challenge.submit(midi_file_path)\n",
    "\"\"\"\n",
    "  Common pitfall: `challenge.submit` takes the `midi_file_path`\n",
    "                    and not the `midifile` object\n",
    "\"\"\""
   ]
  },
  {
   "cell_type": "code",
   "execution_count": null,
   "metadata": {
    "collapsed": true
   },
   "outputs": [],
   "source": []
  }
 ],
 "metadata": {
  "kernelspec": {
   "display_name": "Python 3",
   "language": "python",
   "name": "python3"
  },
  "language_info": {
   "codemirror_mode": {
    "name": "ipython",
    "version": 3
   },
   "file_extension": ".py",
   "mimetype": "text/x-python",
   "name": "python",
   "nbconvert_exporter": "python",
   "pygments_lexer": "ipython3",
   "version": "3.5.2"
  }
 },
 "nbformat": 4,
 "nbformat_minor": 2
}
